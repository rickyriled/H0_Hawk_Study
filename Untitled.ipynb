{
 "cells": [
  {
   "cell_type": "code",
   "execution_count": 22,
   "id": "9f5aeea5",
   "metadata": {},
   "outputs": [],
   "source": [
    "import os"
   ]
  },
  {
   "cell_type": "code",
   "execution_count": 35,
   "id": "6b673374",
   "metadata": {},
   "outputs": [
    {
     "name": "stdout",
     "output_type": "stream",
     "text": [
      "args...\n",
      "config_inj...\n",
      "trigger time...\n",
      "Trigger arrived at t = 1264069368.300415\n",
      "Time of coalescence = 1264069376.0\n",
      "Observed coalescence time = 1264069376.0459595\n",
      "Time difference = 45.95947265625 ms\n",
      "json dump...\n"
     ]
    },
    {
     "data": {
      "text/plain": [
       "0"
      ]
     },
     "execution_count": 35,
     "metadata": {},
     "output_type": "execute_result"
    }
   ],
   "source": [
    "ra=1.257\n",
    "dec=0.419\n",
    "framefile=\"frames/H-H1_STRAIN-1264069359-25-RA_1.257-DEC_0.419.gwf\"\n",
    "channel_name=\"H1:SIM-STRAIN\"\n",
    "\n",
    "os.system(\"python get_slurm_time.py -ra {} -dec {} -c inj_config.ini -ff {} -cn {}\".\n",
    "         format(str(ra), str(dec), framefile, channel_name))"
   ]
  },
  {
   "cell_type": "code",
   "execution_count": null,
   "id": "6d81c7a7",
   "metadata": {},
   "outputs": [],
   "source": []
  }
 ],
 "metadata": {
  "kernelspec": {
   "display_name": "h0dir",
   "language": "python",
   "name": "h0dir"
  },
  "language_info": {
   "codemirror_mode": {
    "name": "ipython",
    "version": 3
   },
   "file_extension": ".py",
   "mimetype": "text/x-python",
   "name": "python",
   "nbconvert_exporter": "python",
   "pygments_lexer": "ipython3",
   "version": "3.9.5"
  }
 },
 "nbformat": 4,
 "nbformat_minor": 5
}
